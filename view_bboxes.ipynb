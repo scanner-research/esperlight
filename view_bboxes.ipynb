{
 "cells": [
  {
   "cell_type": "markdown",
   "metadata": {},
   "source": [
    "# Visualizing Bounding Boxes\n",
    "\n",
    "This notebook is a simple demonstration of how to use Rekall and Vgrid to visualize bounding boxes on a video dataset. This is an abbreviated version of the [Rekall basics tutorial](https://github.com/scanner-research/rekall/blob/master/tutorials/Basics.ipynb), on a different dataset (Intel cyclist detection dataset). We'll be visualizing maskrcnn object detections as well as manually-annotated cyclist detections."
   ]
  },
  {
   "cell_type": "code",
   "execution_count": 11,
   "metadata": {},
   "outputs": [],
   "source": [
    "import urllib3, requests, json, os, pickle\n",
    "\n",
    "# HACK: I don't want to see certificate warnings from olimar.stanford.edu\n",
    "urllib3.disable_warnings()"
   ]
  },
  {
   "cell_type": "code",
   "execution_count": 2,
   "metadata": {},
   "outputs": [],
   "source": [
    "# location of the video metadata file.\n",
    "# It is assumed that video data is located relative to this file.\n",
    "VIDEO_COLLECTION_BASEURL = \"http://olimar.stanford.edu/hdd/intel_self_driving/\" \n",
    "VIDEO_METADATA_FILENAME = \"intel_metadata.json\""
   ]
  },
  {
   "cell_type": "code",
   "execution_count": 18,
   "metadata": {},
   "outputs": [
    {
     "name": "stdout",
     "output_type": "stream",
     "text": [
      "The video collection has 5 videos.\n"
     ]
    }
   ],
   "source": [
    "# Grab the metadata (width, height, number of frames, FPS) of my video collection from olimar\n",
    "req = requests.get(os.path.join(VIDEO_COLLECTION_BASEURL, VIDEO_METADATA_FILENAME), verify=False)\n",
    "video_collection = sorted(req.json(), key=lambda vm: vm['filename'])\n",
    "print(\"The video collection has %d videos.\" % len(video_collection))"
   ]
  },
  {
   "cell_type": "code",
   "execution_count": 7,
   "metadata": {},
   "outputs": [],
   "source": [
    "# Names of the maskrcnn files\n",
    "maskrcnn_bbox_files = [ 'maskrcnn_bboxes_0001.pkl', 'maskrcnn_bboxes_0002.pkl', 'maskrcnn_bboxes_0003.pkl',\n",
    "                  'maskrcnn_bboxes_0004.pkl', 'maskrcnn_bboxes_0005.pkl' ]\n",
    "\n",
    "# Names of the cyclist files\n",
    "cyclist_bbox_files = [ 'cyclist_labels_0001.pkl', 'cyclist_labels_0002.pkl', 'cyclist_labels_0003.pkl',\n",
    "                 'cyclist_labels_0004.pkl', 'cyclist_labels_0005.pkl' ]"
   ]
  },
  {
   "cell_type": "code",
   "execution_count": 29,
   "metadata": {},
   "outputs": [],
   "source": [
    "# Now, load the bounding boxes from olimar.\n",
    "# We load a list of lists of bboxes from olimar, and put those into a sorted list by bbox file name.\n",
    "maskrcnn_bboxes = []\n",
    "for bbox_file in maskrcnn_bbox_files:\n",
    "    req = requests.get(os.path.join(VIDEO_COLLECTION_BASEURL, bbox_file), verify=False)\n",
    "    maskrcnn_bboxes.append(pickle.loads(req.content))\n",
    "    \n",
    "cyclist_bboxes = []\n",
    "for bbox_file in cyclist_bbox_files:\n",
    "    req = requests.get(os.path.join(VIDEO_COLLECTION_BASEURL, bbox_file), verify=False)\n",
    "    cyclist_bboxes.append(pickle.loads(req.content))"
   ]
  },
  {
   "cell_type": "code",
   "execution_count": 31,
   "metadata": {},
   "outputs": [],
   "source": [
    "from rekall import Interval, IntervalSet, IntervalSetMapping, Bounds3D\n",
    "from vgrid import VGridSpec, VideoMetadata, VideoBlockFormat\n",
    "from vgrid_jupyter import VGridWidget\n",
    "\n",
    "# Load the video metadata into VideoMetadata objects, using filename for the id\n",
    "video_metadata = [\n",
    "    VideoMetadata(v[\"filename\"], v[\"filename\"], v[\"fps\"], v[\"num_frames\"], v[\"width\"], v[\"height\"])\n",
    "    for v in video_collection\n",
    "]\n",
    "\n",
    "# Load the maskrcnn bboxes into Rekall, using video id as key\n",
    "# Units of Bounds are seconds for time, relative units for X and Y\n",
    "maskrcnn_bboxes_ism = IntervalSetMapping({\n",
    "    vm.id: IntervalSet([\n",
    "        Interval(\n",
    "            Bounds3D(\n",
    "                t1 = frame_num / vm.fps,\n",
    "                t2 = (frame_num + 1) / vm.fps,\n",
    "                x1 = bbox[0] / vm.width,\n",
    "                x2 = bbox[2] / vm.width,\n",
    "                y1 = bbox[1] / vm.height,\n",
    "                y2 = bbox[3] / vm.height\n",
    "            ),\n",
    "            payload = {\n",
    "                'class': bbox[4],\n",
    "                'score': bbox[5]\n",
    "            }\n",
    "        )\n",
    "        for frame_num, bboxes_in_frame in enumerate(maskrcnn_frame_list)\n",
    "        for bbox in bboxes_in_frame\n",
    "    ])\n",
    "    for vm, maskrcnn_frame_list in zip(video_metadata, maskrcnn_bboxes)\n",
    "})\n",
    "\n",
    "# Load the cyclist bboxes into Rekall, using video id as key\n",
    "# Units of Bounds are seconds for time, relative units for X and Y\n",
    "cyclist_bboxes_ism = IntervalSetMapping({\n",
    "    vm.id: IntervalSet([\n",
    "        Interval(\n",
    "            Bounds3D(\n",
    "                t1 = frame_num / vm.fps,\n",
    "                t2 = (frame_num + 1) / vm.fps,\n",
    "                x1 = bbox[0] / vm.width,\n",
    "                x2 = bbox[2] / vm.width,\n",
    "                y1 = bbox[1] / vm.height,\n",
    "                y2 = bbox[3] / vm.height\n",
    "            ),\n",
    "            payload = {\n",
    "                'class': bbox[4],\n",
    "                'score': bbox[5]\n",
    "            }\n",
    "        )\n",
    "        for frame_num, bboxes_in_frame in enumerate(cyclist_frame_list)\n",
    "        for bbox in bboxes_in_frame\n",
    "    ])\n",
    "    for vm, cyclist_frame_list in zip(video_metadata, cyclist_bboxes)\n",
    "})"
   ]
  },
  {
   "cell_type": "code",
   "execution_count": 34,
   "metadata": {},
   "outputs": [
    {
     "data": {
      "application/vnd.jupyter.widget-view+json": {
       "model_id": "22a3d2ffd2c74a15a70029541da67ba2",
       "version_major": 2,
       "version_minor": 0
      },
      "text/plain": [
       "VGridWidget(vgrid_spec={'compressed': True, 'data': b'x\\x9c\\xc4\\xbd\\xcb\\xb2lKr]\\xf7+\\xb4jK\\xb4x?\\xd8\\xd4/H=5h\\…"
      ]
     },
     "metadata": {},
     "output_type": "display_data"
    }
   ],
   "source": [
    "# Visualize Mask-RCNN bboxes, and cyclist bboxes\n",
    "vgrid_spec = VGridSpec(\n",
    "    video_meta = video_metadata,\n",
    "    vis_format = VideoBlockFormat(imaps = [\n",
    "        ('mask_rcnn_bounding_boxes', maskrcnn_bboxes_ism),\n",
    "        ('cyclist_bounding_boxes', cyclist_bboxes_ism)\n",
    "    ]),\n",
    "    video_endpoint = VIDEO_COLLECTION_BASEURL\n",
    ")\n",
    "VGridWidget(vgrid_spec = vgrid_spec.to_json_compressed())"
   ]
  },
  {
   "cell_type": "markdown",
   "metadata": {},
   "source": [
    "# If the above videos are not displaying, download the videos locally"
   ]
  },
  {
   "cell_type": "code",
   "execution_count": 36,
   "metadata": {},
   "outputs": [
    {
     "name": "stdout",
     "output_type": "stream",
     "text": [
      "Downloading http://olimar.stanford.edu/hdd/intel_self_driving/0001.mp4\n",
      "Downloading http://olimar.stanford.edu/hdd/intel_self_driving/0002.mp4\n",
      "Downloading http://olimar.stanford.edu/hdd/intel_self_driving/0003.mp4\n",
      "Downloading http://olimar.stanford.edu/hdd/intel_self_driving/0004.mp4\n",
      "Downloading http://olimar.stanford.edu/hdd/intel_self_driving/0005.mp4\n"
     ]
    }
   ],
   "source": [
    "for video in video_metadata:\n",
    "    print(\"Downloading {}\".format(os.path.join(VIDEO_COLLECTION_BASEURL, video.path)))\n",
    "    req = requests.get(os.path.join(VIDEO_COLLECTION_BASEURL, video.path), verify=False)\n",
    "    with open(video.path, 'wb') as f:\n",
    "        f.write(req.content)"
   ]
  },
  {
   "cell_type": "markdown",
   "metadata": {},
   "source": [
    "Or alternatively, navigate to a folder of your choosing and run the following command:\n",
    "```\n",
    "wget --no-check-certificate  https://olimar.stanford.edu/hdd/intel_self_driving/0001.mp4 \\\n",
    "    https://olimar.stanford.edu/hdd/intel_self_driving/0002.mp4 \\\n",
    "    https://olimar.stanford.edu/hdd/intel_self_driving/0003.mp4 \\\n",
    "    https://olimar.stanford.edu/hdd/intel_self_driving/0004.mp4 \\\n",
    "    https://olimar.stanford.edu/hdd/intel_self_driving/0005.mp4\n",
    "```"
   ]
  },
  {
   "cell_type": "markdown",
   "metadata": {},
   "source": [
    "# You'll need to start up a local fileserver to serve the videos.\n",
    "\n",
    "Navigate to your esperlight folder (or to the folder where you downloaded the videos, and run:\n",
    "\n",
    "`python3 -m http.server [PORTNUMBER]`\n",
    "\n",
    "Where `[PORTNUMBER]` is a port of your choosing. Be sure to specify it correctly in the `video_endpoint` argument below."
   ]
  },
  {
   "cell_type": "code",
   "execution_count": 41,
   "metadata": {},
   "outputs": [
    {
     "data": {
      "application/vnd.jupyter.widget-view+json": {
       "model_id": "3e7353322ace4ea98d6d6ec9f7a74c49",
       "version_major": 2,
       "version_minor": 0
      },
      "text/plain": [
       "VGridWidget(vgrid_spec={'compressed': True, 'data': b'x\\x9c\\xc4\\xbd\\xcb\\xb2lKr]\\xf7+\\xb4jK\\xb4x?\\xd8\\xd4/H=5h\\…"
      ]
     },
     "metadata": {},
     "output_type": "display_data"
    }
   ],
   "source": [
    "# Visualize Mask-RCNN bboxes, and cyclist bboxes\n",
    "vgrid_spec = VGridSpec(\n",
    "    video_meta = video_metadata,\n",
    "    vis_format = VideoBlockFormat(imaps = [\n",
    "        ('mask_rcnn_bounding_boxes', maskrcnn_bboxes_ism),\n",
    "        ('cyclist_bounding_boxes', cyclist_bboxes_ism)\n",
    "    ]),\n",
    "    video_endpoint = 'http://localhost:8080'\n",
    ")\n",
    "VGridWidget(vgrid_spec = vgrid_spec.to_json_compressed())"
   ]
  }
 ],
 "metadata": {
  "kernelspec": {
   "display_name": "Python 3",
   "language": "python",
   "name": "python3"
  },
  "language_info": {
   "codemirror_mode": {
    "name": "ipython",
    "version": 3
   },
   "file_extension": ".py",
   "mimetype": "text/x-python",
   "name": "python",
   "nbconvert_exporter": "python",
   "pygments_lexer": "ipython3",
   "version": "3.5.5"
  }
 },
 "nbformat": 4,
 "nbformat_minor": 2
}
