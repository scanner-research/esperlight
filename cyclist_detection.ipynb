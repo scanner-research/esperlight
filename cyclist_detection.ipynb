{
 "cells": [
  {
   "cell_type": "code",
   "execution_count": 1,
   "metadata": {},
   "outputs": [],
   "source": [
    "import urllib3, requests, json, os, pickle\n",
    "import numpy as np\n",
    "\n",
    "# HACK: I don't want to see certificate warnings from olimar.stanford.edu\n",
    "urllib3.disable_warnings()"
   ]
  },
  {
   "cell_type": "code",
   "execution_count": 2,
   "metadata": {},
   "outputs": [],
   "source": [
    "# location of the video metadata file.\n",
    "# It is assumed that video data is located relative to this file.\n",
    "VIDEO_COLLECTION_BASEURL = \"http://olimar.stanford.edu/hdd/intel_self_driving/\" \n",
    "VIDEO_METADATA_FILENAME = \"intel_metadata.json\""
   ]
  },
  {
   "cell_type": "code",
   "execution_count": 3,
   "metadata": {},
   "outputs": [
    {
     "name": "stdout",
     "output_type": "stream",
     "text": [
      "The video collection has 5 videos.\n"
     ]
    }
   ],
   "source": [
    "# Grab the metadata (width, height, number of frames, FPS) of my video collection from olimar\n",
    "req = requests.get(os.path.join(VIDEO_COLLECTION_BASEURL, VIDEO_METADATA_FILENAME), verify=False)\n",
    "video_collection = sorted(req.json(), key=lambda vm: vm['filename'])\n",
    "print(\"The video collection has %d videos.\" % len(video_collection))"
   ]
  },
  {
   "cell_type": "code",
   "execution_count": 4,
   "metadata": {},
   "outputs": [],
   "source": [
    "# Names of the maskrcnn files\n",
    "maskrcnn_bbox_files = [ 'maskrcnn_bboxes_0001.pkl', 'maskrcnn_bboxes_0002.pkl', 'maskrcnn_bboxes_0003.pkl',\n",
    "                  'maskrcnn_bboxes_0004.pkl', 'maskrcnn_bboxes_0005.pkl' ]\n",
    "\n",
    "# Names of the cyclist files\n",
    "cyclist_bbox_files = [ 'cyclist_labels_0001.pkl', 'cyclist_labels_0002.pkl', 'cyclist_labels_0003.pkl',\n",
    "                 'cyclist_labels_0004.pkl', 'cyclist_labels_0005.pkl' ]"
   ]
  },
  {
   "cell_type": "code",
   "execution_count": 5,
   "metadata": {},
   "outputs": [],
   "source": [
    "# Now, load the bounding boxes from olimar.\n",
    "# We load a list of lists of bboxes from olimar, and put those into a sorted list by bbox file name.\n",
    "maskrcnn_bboxes = []\n",
    "for bbox_file in maskrcnn_bbox_files:\n",
    "    req = requests.get(os.path.join(VIDEO_COLLECTION_BASEURL, bbox_file), verify=False)\n",
    "    maskrcnn_bboxes.append(pickle.loads(req.content))\n",
    "    \n",
    "cyclist_bboxes = []\n",
    "for bbox_file in cyclist_bbox_files:\n",
    "    req = requests.get(os.path.join(VIDEO_COLLECTION_BASEURL, bbox_file), verify=False)\n",
    "    cyclist_bboxes.append(pickle.loads(req.content))\n"
   ]
  },
  {
   "cell_type": "code",
   "execution_count": 6,
   "metadata": {},
   "outputs": [],
   "source": [
    "from rekall import Interval, IntervalSet, IntervalSetMapping, Bounds3D\n",
    "from vgrid import VGridSpec, VideoMetadata, VideoBlockFormat\n",
    "from vgrid_jupyter import VGridWidget\n",
    "\n",
    "# Load the video metadata into VideoMetadata objects, using filename for the id\n",
    "video_metadata = [\n",
    "    VideoMetadata(v[\"filename\"], v[\"filename\"], v[\"fps\"], v[\"num_frames\"], v[\"width\"], v[\"height\"])\n",
    "    for v in video_collection\n",
    "]\n",
    "\n",
    "# Load the maskrcnn bboxes into Rekall, using video id as key\n",
    "# Units of Bounds are seconds for time, relative units for X and Y\n",
    "maskrcnn_bboxes_ism = IntervalSetMapping({\n",
    "    vm.id: IntervalSet([\n",
    "        Interval(\n",
    "            Bounds3D(\n",
    "                t1 = frame_num / vm.fps,\n",
    "                t2 = (frame_num + 1) / vm.fps,\n",
    "                x1 = bbox[0] / vm.width,\n",
    "                x2 = bbox[2] / vm.width,\n",
    "                y1 = bbox[1] / vm.height,\n",
    "                y2 = bbox[3] / vm.height\n",
    "            ),\n",
    "            payload = {\n",
    "                'class': bbox[4],\n",
    "                'score': bbox[5]\n",
    "            }\n",
    "        )\n",
    "        for frame_num, bboxes_in_frame in enumerate(maskrcnn_frame_list)\n",
    "        for bbox in bboxes_in_frame\n",
    "    ])\n",
    "    for vm, maskrcnn_frame_list in zip(video_metadata, maskrcnn_bboxes)\n",
    "})\n",
    "\n",
    "# Load the cyclist bboxes into Rekall, using video id as key\n",
    "# Units of Bounds are seconds for time, relative units for X and Y\n",
    "cyclist_bboxes_ism = IntervalSetMapping({\n",
    "    vm.id: IntervalSet([\n",
    "        Interval(\n",
    "            Bounds3D(\n",
    "                t1 = frame_num / vm.fps,\n",
    "                t2 = (frame_num + 1) / vm.fps,\n",
    "                x1 = bbox[0] / vm.width,\n",
    "                x2 = bbox[2] / vm.width,\n",
    "                y1 = bbox[1] / vm.height,\n",
    "                y2 = bbox[3] / vm.height\n",
    "            ),\n",
    "            payload = {\n",
    "                'class': bbox[4],\n",
    "                'score': bbox[5]\n",
    "            }\n",
    "        )\n",
    "        for frame_num, bboxes_in_frame in enumerate(cyclist_frame_list)\n",
    "        for bbox in bboxes_in_frame\n",
    "    ])\n",
    "    for vm, cyclist_frame_list in zip(video_metadata, cyclist_bboxes)\n",
    "})"
   ]
  },
  {
   "cell_type": "code",
   "execution_count": 7,
   "metadata": {},
   "outputs": [],
   "source": [
    "#CREATE LABEL OF CYCLIST BY MERGING PERSON + BICYCLE"
   ]
  },
  {
   "cell_type": "code",
   "execution_count": 8,
   "metadata": {},
   "outputs": [],
   "source": [
    "object_names = [\"person\", \"bicycle\"]\n",
    "object_isms = [\n",
    "    maskrcnn_bboxes_ism.filter(lambda interval: interval['payload']['class'] == object_name)\n",
    "    for object_name in object_names\n",
    "]"
   ]
  },
  {
   "cell_type": "code",
   "execution_count": 9,
   "metadata": {},
   "outputs": [],
   "source": [
    "#CREATE A CYCLIST LABEL\n",
    "from rekall.predicates import *\n",
    "\n",
    "person_ism = object_isms[0]\n",
    "bicycle_ism = object_isms[1]\n",
    "\n",
    "constructed_cyclist_bboxes = person_ism.join(\n",
    "    bicycle_ism,\n",
    "    predicate = and_pred(\n",
    "        Bounds3D.T(equal()), # equal along the time dimension\n",
    "        Bounds3D.X(overlaps()), # boxes overlap in the X dimension\n",
    "        Bounds3D.Y(overlaps()) # boxes overlap in the Y dimension\n",
    "    ),\n",
    "    merge_op = lambda person, bicycle: Interval(\n",
    "        person['bounds'].span(bicycle['bounds']), # We use the \"span\" method of Bounds3D to get a spanning bound\n",
    "        payload = {\n",
    "            'class': 'bike_person_cyclist',\n",
    "        }\n",
    "    ),\n",
    "    window = 0.5 # choose only pairs that differ by less than half a second from each other\n",
    ")\n",
    "\n"
   ]
  },
  {
   "cell_type": "code",
   "execution_count": 10,
   "metadata": {},
   "outputs": [
    {
     "data": {
      "application/vnd.jupyter.widget-view+json": {
       "model_id": "4fbea0a221f24a1bbe699b02cec691d0",
       "version_major": 2,
       "version_minor": 0
      },
      "text/plain": [
       "VGridWidget(vgrid_spec={'compressed': True, 'data': b'x\\x9c\\xcc\\xbd\\xd9\\x8e,Iv$\\xf8+D=\\x13\\x84\\xee\\xcb<\\xce/\\x…"
      ]
     },
     "metadata": {},
     "output_type": "display_data"
    }
   ],
   "source": [
    "# Visualize Mask-RCNN bboxes, and cyclist bboxes\n",
    "vgrid_spec = VGridSpec(\n",
    "    video_meta = video_metadata,\n",
    "    vis_format = VideoBlockFormat(imaps = [\n",
    "        ('cyclist_bounding_boxes', cyclist_bboxes_ism.filter(\n",
    "            lambda intrvl: intrvl['payload']['class'] == 'Cyclist')),\n",
    "        ('mask_rcnn_bounding_boxes', maskrcnn_bboxes_ism.filter(\n",
    "            lambda intrvl: intrvl['payload']['class'] == 'bicycle')),\n",
    "        ('mask_rcnn_bounding_boxes', maskrcnn_bboxes_ism.filter(\n",
    "            lambda intrvl: intrvl['payload']['class'] == 'person')),\n",
    "        ('constructed_cyclist_boxes', constructed_cyclist_bboxes)\n",
    "    ]),\n",
    "    video_endpoint = VIDEO_COLLECTION_BASEURL\n",
    ")\n",
    "VGridWidget(vgrid_spec = vgrid_spec.to_json_compressed())"
   ]
  },
  {
   "cell_type": "code",
   "execution_count": 99,
   "metadata": {},
   "outputs": [],
   "source": [
    "#CALCULATE PRECISION + RECALL"
   ]
  },
  {
   "cell_type": "code",
   "execution_count": 11,
   "metadata": {},
   "outputs": [],
   "source": [
    "#TODO -- Implement IoU validation of TP \n",
    "def tp(gt, test):\n",
    "    return gt.join(\n",
    "        test,\n",
    "        predicate = Bounds3D.T(equal()), merge_op = lambda intrvl1, intrvl2: intrvl2, window=0.0\n",
    "    ).group_by_axis(('t1', 't2'),  Bounds3D(0, 1, 0, 1, 0, 1))"
   ]
  },
  {
   "cell_type": "code",
   "execution_count": 14,
   "metadata": {},
   "outputs": [],
   "source": [
    "def print_precision_recall_f1(gt, test):\n",
    "    tp_result = tp(gt, test)\n",
    "    false_positives = test.minus(tp_result, window=1.0)\n",
    "    false_negatives = gt.minus(tp_result, window=1.0)\n",
    "    ground_truth=  gt.group_by_axis(('t1', 't2'), Bounds3D(0, 1, 0, 1, 0, 1));\n",
    "    \n",
    "    [true_positives, total_detections_amount, number_ground_truths ] = [0, 0, 0]\n",
    "    \n",
    "    for video in test.keys():\n",
    "        true_positives += tp_result.size()[video]\n",
    "        total_detections_amount += test.size()[video]\n",
    "        number_ground_truths += ground_truth.size()[video]\n",
    "        \n",
    "    precision = true_positives / total_detections_amount\n",
    "    recall = true_positives / number_ground_truths\n",
    "    \n",
    "    print('Precision: {}'.format(precision))\n",
    "    print('Recall: {}'.format(recall))\n",
    "    print('F1: {}'.format(2 * precision * recall / (precision + recall)))\n",
    "    \n",
    "    return (false_positives, false_negatives)"
   ]
  },
  {
   "cell_type": "code",
   "execution_count": 15,
   "metadata": {},
   "outputs": [
    {
     "name": "stdout",
     "output_type": "stream",
     "text": [
      "Precision: 0.9753401360544217\n",
      "Recall: 0.5969294821753838\n",
      "F1: 0.740597255851493\n"
     ]
    }
   ],
   "source": [
    "[false_positives, false_negatives] = print_precision_recall_f1(\n",
    "    cyclist_bboxes_ism.filter(\n",
    "            lambda intrvl: intrvl['payload']['class'] == 'Cyclist'),\n",
    "    constructed_cyclist_bboxes\n",
    "    .group_by_axis(('t1', 't2'), Bounds3D(0, 1, 0, 1, 0, 1))\n",
    ")\n",
    "\n"
   ]
  },
  {
   "cell_type": "code",
   "execution_count": 16,
   "metadata": {},
   "outputs": [
    {
     "data": {
      "application/vnd.jupyter.widget-view+json": {
       "model_id": "1d207f84dcc648d09a579e3cd9ca77cf",
       "version_major": 2,
       "version_minor": 0
      },
      "text/plain": [
       "VGridWidget(vgrid_spec={'compressed': True, 'data': b'x\\x9c\\xcc\\xbd\\xdb\\xb2e\\xc9q]\\xf9+2<\\xcbhq\\xbf\\xf4c\\xffB\\…"
      ]
     },
     "metadata": {},
     "output_type": "display_data"
    }
   ],
   "source": [
    "#Visualize false negatives\n",
    "vgrid_spec = VGridSpec(\n",
    "    video_meta = video_metadata,\n",
    "    vis_format = VideoBlockFormat(imaps = [\n",
    "        ('false_negatives_gt', false_negatives),\n",
    "        ('mask_rcnn_bounding_boxes', maskrcnn_bboxes_ism.filter(\n",
    "            lambda intrvl: intrvl['payload']['class'] == 'bicycle')),\n",
    "        ('mask_rcnn_bounding_boxes', maskrcnn_bboxes_ism.filter(\n",
    "            lambda intrvl: intrvl['payload']['class'] == 'person')),\n",
    "        ('constructed_cyclist_boxes', constructed_cyclist_bboxes)\n",
    "        \n",
    "    ]),\n",
    "    video_endpoint = VIDEO_COLLECTION_BASEURL\n",
    ")\n",
    "VGridWidget(vgrid_spec = vgrid_spec.to_json_compressed())"
   ]
  },
  {
   "cell_type": "code",
   "execution_count": 76,
   "metadata": {
    "scrolled": true
   },
   "outputs": [],
   "source": [
    "#TODO: calculate mAP\n"
   ]
  },
  {
   "cell_type": "code",
   "execution_count": null,
   "metadata": {},
   "outputs": [],
   "source": []
  }
 ],
 "metadata": {
  "kernelspec": {
   "display_name": "Python 3",
   "language": "python",
   "name": "python3"
  },
  "language_info": {
   "codemirror_mode": {
    "name": "ipython",
    "version": 3
   },
   "file_extension": ".py",
   "mimetype": "text/x-python",
   "name": "python",
   "nbconvert_exporter": "python",
   "pygments_lexer": "ipython3",
   "version": "3.5.5"
  }
 },
 "nbformat": 4,
 "nbformat_minor": 2
}
