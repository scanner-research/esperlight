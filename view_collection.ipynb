{
 "cells": [
  {
   "cell_type": "markdown",
   "metadata": {},
   "source": [
    "# Visualizing a Video Dataset #\n",
    "\n",
    "This notebook is a simple demonstration of how to use vgrid to visualize a video dataset.  The tutorial assumes that the video files, as well as precomputed metadata about the videos, are located on a remote machine. I expect this to be a common case in a lot of workflows."
   ]
  },
  {
   "cell_type": "code",
   "execution_count": null,
   "metadata": {},
   "outputs": [],
   "source": [
    "import urllib3, requests, json, os\n",
    "\n",
    "# HACK(kayvonf): I don't want to see certificate warnings from olimar.stanford.edu\n",
    "urllib3.disable_warnings()"
   ]
  },
  {
   "cell_type": "code",
   "execution_count": null,
   "metadata": {},
   "outputs": [],
   "source": [
    "# location of the video metadata file.\n",
    "# It is assumed that video data is located relative to this file.\n",
    "VIDEO_COLLECTION_BASEURL = \"http://olimar.stanford.edu/hdd/kayvon10/\" \n",
    "VIDEO_METADATA_FILENAME = \"kayvon10.json\""
   ]
  },
  {
   "cell_type": "code",
   "execution_count": null,
   "metadata": {},
   "outputs": [],
   "source": [
    "#\n",
    "# The first step in the process is to grab the metadata about my video collection.\n",
    "#\n",
    "req = requests.get(os.path.join(VIDEO_COLLECTION_BASEURL, VIDEO_METADATA_FILENAME), verify=False)\n",
    "video_collection = req.json()\n",
    "print(\"The video collection has %d videos.\" % len(video_collection))"
   ]
  },
  {
   "cell_type": "code",
   "execution_count": null,
   "metadata": {},
   "outputs": [],
   "source": [
    "from rekall import Interval, IntervalSet, IntervalSetMapping, Bounds3D\n",
    "from vgrid.vblocks_builder import VideoVBlocksBuilder, VideoTrackBuilder, DrawType_Bbox, VideoMetadata\n",
    "from vgrid_jupyter import VGridWidget\n",
    "\n",
    "video_metadata = []\n",
    "\n",
    "# HACK(kayvonf): At the moment, VideoVBlocksBuilder doesn't seem to build anything\n",
    "# if at least one track is not specified. I'm providing a dummy track here to keep it\n",
    "# happy for now. This needs to be fixed.\n",
    "test_intervals = {}\n",
    "\n",
    "for v in video_collection:\n",
    "    video_metadata.append(VideoMetadata(v[\"filename\"], v[\"id\"], v[\"fps\"], v[\"num_frames\"], v[\"width\"], v[\"height\"]))\n",
    "    test_intervals[v[\"id\"]] = IntervalSet([Interval(Bounds3D(0, 1)), Interval(Bounds3D(2, 3))])\n",
    "    \n",
    "builder = VideoVBlocksBuilder()\n",
    "builder.add_video_metadata(VIDEO_COLLECTION_BASEURL, video_metadata)\n",
    "builder.add_track(VideoTrackBuilder('test', IntervalSetMapping(test_intervals)))\n",
    "\n",
    "# now make the vgrid widget\n",
    "VGridWidget(vgrid_json=builder.build())"
   ]
  }
 ],
 "metadata": {
  "kernelspec": {
   "display_name": "Python 3",
   "language": "python",
   "name": "python3"
  },
  "language_info": {
   "codemirror_mode": {
    "name": "ipython",
    "version": 3
   },
   "file_extension": ".py",
   "mimetype": "text/x-python",
   "name": "python",
   "nbconvert_exporter": "python",
   "pygments_lexer": "ipython3",
   "version": "3.6.5"
  }
 },
 "nbformat": 4,
 "nbformat_minor": 2
}
