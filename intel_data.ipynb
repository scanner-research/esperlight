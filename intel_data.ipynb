{
 "cells": [
  {
   "cell_type": "markdown",
   "metadata": {},
   "source": [
    "# Visualizing Bounding Boxes\n",
    "\n",
    "This notebook is a simple demonstration of how to use Rekall and Vgrid to visualize bounding boxes on a video dataset. This is an abbreviated version of the [Rekall basics tutorial](https://github.com/scanner-research/rekall/blob/master/tutorials/Basics.ipynb), on a different dataset (Intel cyclist detection dataset). We'll be visualizing maskrcnn object detections as well as manually-annotated cyclist detections."
   ]
  },
  {
   "cell_type": "code",
   "execution_count": 50,
   "metadata": {},
   "outputs": [],
   "source": [
    "import urllib3, requests, json, os, pickle\n",
    "import numpy as np\n",
    "\n",
    "# HACK: I don't want to see certificate warnings from olimar.stanford.edu\n",
    "urllib3.disable_warnings()"
   ]
  },
  {
   "cell_type": "code",
   "execution_count": 51,
   "metadata": {},
   "outputs": [],
   "source": [
    "# location of the video metadata file.\n",
    "# It is assumed that video data is located relative to this file.\n",
    "VIDEO_COLLECTION_BASEURL = \"http://olimar.stanford.edu/hdd/intel_self_driving/\" \n",
    "VIDEO_METADATA_FILENAME = \"intel_metadata.json\""
   ]
  },
  {
   "cell_type": "code",
   "execution_count": 52,
   "metadata": {},
   "outputs": [
    {
     "name": "stdout",
     "output_type": "stream",
     "text": [
      "The video collection has 5 videos.\n"
     ]
    }
   ],
   "source": [
    "# Grab the metadata (width, height, number of frames, FPS) of my video collection from olimar\n",
    "req = requests.get(os.path.join(VIDEO_COLLECTION_BASEURL, VIDEO_METADATA_FILENAME), verify=False)\n",
    "video_collection = sorted(req.json(), key=lambda vm: vm['filename'])\n",
    "print(\"The video collection has %d videos.\" % len(video_collection))"
   ]
  },
  {
   "cell_type": "code",
   "execution_count": 53,
   "metadata": {},
   "outputs": [],
   "source": [
    "# Names of the maskrcnn files\n",
    "maskrcnn_bbox_files = [ 'maskrcnn_bboxes_0001.pkl', 'maskrcnn_bboxes_0002.pkl', 'maskrcnn_bboxes_0003.pkl',\n",
    "                  'maskrcnn_bboxes_0004.pkl', 'maskrcnn_bboxes_0005.pkl' ]\n",
    "\n",
    "# Names of the cyclist files\n",
    "cyclist_bbox_files = [ 'cyclist_labels_0001.pkl', 'cyclist_labels_0002.pkl', 'cyclist_labels_0003.pkl',\n",
    "                 'cyclist_labels_0004.pkl', 'cyclist_labels_0005.pkl' ]"
   ]
  },
  {
   "cell_type": "code",
   "execution_count": 54,
   "metadata": {},
   "outputs": [],
   "source": [
    "# Now, load the bounding boxes from olimar.\n",
    "# We load a list of lists of bboxes from olimar, and put those into a sorted list by bbox file name.\n",
    "maskrcnn_bboxes = []\n",
    "for bbox_file in maskrcnn_bbox_files:\n",
    "    req = requests.get(os.path.join(VIDEO_COLLECTION_BASEURL, bbox_file), verify=False)\n",
    "    maskrcnn_bboxes.append(pickle.loads(req.content))\n",
    "    \n",
    "cyclist_bboxes = []\n",
    "for bbox_file in cyclist_bbox_files:\n",
    "    req = requests.get(os.path.join(VIDEO_COLLECTION_BASEURL, bbox_file), verify=False)\n",
    "    cyclist_bboxes.append(pickle.loads(req.content))"
   ]
  },
  {
   "cell_type": "code",
   "execution_count": 55,
   "metadata": {},
   "outputs": [],
   "source": [
    "from rekall import Interval, IntervalSet, IntervalSetMapping, Bounds3D\n",
    "from vgrid import VGridSpec, VideoMetadata, VideoBlockFormat\n",
    "from vgrid_jupyter import VGridWidget\n",
    "\n",
    "# Load the video metadata into VideoMetadata objects, using filename for the id\n",
    "video_metadata = [\n",
    "    VideoMetadata(v[\"filename\"], v[\"filename\"], v[\"fps\"], v[\"num_frames\"], v[\"width\"], v[\"height\"])\n",
    "    for v in video_collection\n",
    "]\n",
    "\n",
    "# Load the maskrcnn bboxes into Rekall, using video id as key\n",
    "# Units of Bounds are seconds for time, relative units for X and Y\n",
    "maskrcnn_bboxes_ism = IntervalSetMapping({\n",
    "    vm.id: IntervalSet([\n",
    "        Interval(\n",
    "            Bounds3D(\n",
    "                t1 = frame_num / vm.fps,\n",
    "                t2 = (frame_num + 1) / vm.fps,\n",
    "                x1 = bbox[0] / vm.width,\n",
    "                x2 = bbox[2] / vm.width,\n",
    "                y1 = bbox[1] / vm.height,\n",
    "                y2 = bbox[3] / vm.height\n",
    "            ),\n",
    "            payload = {\n",
    "                'class': bbox[4],\n",
    "                'score': bbox[5]\n",
    "            }\n",
    "        )\n",
    "        for frame_num, bboxes_in_frame in enumerate(maskrcnn_frame_list)\n",
    "        for bbox in bboxes_in_frame\n",
    "    ])\n",
    "    for vm, maskrcnn_frame_list in zip(video_metadata, maskrcnn_bboxes)\n",
    "})\n",
    "\n",
    "# Load the cyclist bboxes into Rekall, using video id as key\n",
    "# Units of Bounds are seconds for time, relative units for X and Y\n",
    "cyclist_bboxes_ism = IntervalSetMapping({\n",
    "    vm.id: IntervalSet([\n",
    "        Interval(\n",
    "            Bounds3D(\n",
    "                t1 = frame_num / vm.fps,\n",
    "                t2 = (frame_num + 1) / vm.fps,\n",
    "                x1 = bbox[0] / vm.width,\n",
    "                x2 = bbox[2] / vm.width,\n",
    "                y1 = bbox[1] / vm.height,\n",
    "                y2 = bbox[3] / vm.height\n",
    "            ),\n",
    "            payload = {\n",
    "                'class': bbox[4],\n",
    "                'score': bbox[5]\n",
    "            }\n",
    "        )\n",
    "        for frame_num, bboxes_in_frame in enumerate(cyclist_frame_list)\n",
    "        for bbox in bboxes_in_frame\n",
    "    ])\n",
    "    for vm, cyclist_frame_list in zip(video_metadata, cyclist_bboxes)\n",
    "})"
   ]
  },
  {
   "cell_type": "code",
   "execution_count": 56,
   "metadata": {},
   "outputs": [
    {
     "data": {
      "text/plain": [
       "dict_keys(['0003.mp4', '0004.mp4', '0002.mp4', '0001.mp4', '0005.mp4'])"
      ]
     },
     "execution_count": 56,
     "metadata": {},
     "output_type": "execute_result"
    }
   ],
   "source": [
    "cyclist_bboxes_ism.get_grouped_intervals().keys()"
   ]
  },
  {
   "cell_type": "code",
   "execution_count": 57,
   "metadata": {},
   "outputs": [],
   "source": [
    "X_train_paths = np.load('/dfs/scratch0/danfu/sequential_ws/2019-05-17_intel_self_driving/X_paths_train.npy')\n",
    "X_dev_paths = np.load('/dfs/scratch0/danfu/sequential_ws/2019-05-17_intel_self_driving/X_paths_dev_strided.npy')\n",
    "X_test_paths = np.load('/dfs/scratch0/danfu/sequential_ws/2019-05-17_intel_self_driving/X_paths_test_strided.npy')"
   ]
  },
  {
   "cell_type": "code",
   "execution_count": 58,
   "metadata": {},
   "outputs": [],
   "source": [
    "noisy_train = np.load(\n",
    "    '/dfs/scratch0/danfu/sequential_ws/2019-05-17_intel_self_driving/noisy_labels_tows_custom_train_tuned.npy')\n",
    "noisy_dev = np.load(\n",
    "    '/dfs/scratch0/danfu/sequential_ws/2019-05-17_intel_self_driving/noisy_labels_tows_custom_dev_tuned.npy')\n",
    "noisy_test = np.load(\n",
    "    '/dfs/scratch0/danfu/sequential_ws/2019-05-17_intel_self_driving/noisy_labels_tows_custom_test_tuned.npy')"
   ]
  },
  {
   "cell_type": "code",
   "execution_count": 59,
   "metadata": {},
   "outputs": [],
   "source": [
    "dp_train = np.load(\n",
    "    '/dfs/scratch0/danfu/sequential_ws/2019-05-17_intel_self_driving/noisy_labels_dp_train.npy')\n",
    "dp_dev = np.load(\n",
    "    '/dfs/scratch0/danfu/sequential_ws/2019-05-17_intel_self_driving/noisy_labels_dp_dev.npy')\n",
    "dp_test = np.load(\n",
    "    '/dfs/scratch0/danfu/sequential_ws/2019-05-17_intel_self_driving/noisy_labels_dp_test.npy')"
   ]
  },
  {
   "cell_type": "code",
   "execution_count": 60,
   "metadata": {},
   "outputs": [
    {
     "data": {
      "text/plain": [
       "array(['/dfs/scratch0/danfu/sequential_ws/2019-05-17_intel_self_driving/Autumn 1242x375/Autumn 0001 1242x375/images/000000001.png',\n",
       "       '/dfs/scratch0/danfu/sequential_ws/2019-05-17_intel_self_driving/Autumn 1242x375/Autumn 0001 1242x375/images/000000002.png',\n",
       "       '/dfs/scratch0/danfu/sequential_ws/2019-05-17_intel_self_driving/Autumn 1242x375/Autumn 0001 1242x375/images/000000003.png',\n",
       "       '/dfs/scratch0/danfu/sequential_ws/2019-05-17_intel_self_driving/Autumn 1242x375/Autumn 0001 1242x375/images/000000004.png',\n",
       "       '/dfs/scratch0/danfu/sequential_ws/2019-05-17_intel_self_driving/Autumn 1242x375/Autumn 0001 1242x375/images/000000005.png',\n",
       "       '/dfs/scratch0/danfu/sequential_ws/2019-05-17_intel_self_driving/Autumn 1242x375/Autumn 0001 1242x375/images/000000006.png',\n",
       "       '/dfs/scratch0/danfu/sequential_ws/2019-05-17_intel_self_driving/Autumn 1242x375/Autumn 0001 1242x375/images/000000007.png',\n",
       "       '/dfs/scratch0/danfu/sequential_ws/2019-05-17_intel_self_driving/Autumn 1242x375/Autumn 0001 1242x375/images/000000008.png',\n",
       "       '/dfs/scratch0/danfu/sequential_ws/2019-05-17_intel_self_driving/Autumn 1242x375/Autumn 0001 1242x375/images/000000009.png',\n",
       "       '/dfs/scratch0/danfu/sequential_ws/2019-05-17_intel_self_driving/Autumn 1242x375/Autumn 0001 1242x375/images/000000010.png'],\n",
       "      dtype='<U121')"
      ]
     },
     "execution_count": 60,
     "metadata": {},
     "output_type": "execute_result"
    }
   ],
   "source": [
    "X_train_paths[:10]"
   ]
  },
  {
   "cell_type": "code",
   "execution_count": 61,
   "metadata": {},
   "outputs": [],
   "source": [
    "id_to_fps = {\n",
    "    vm.id: vm.fps\n",
    "    for vm in video_metadata\n",
    "}"
   ]
  },
  {
   "cell_type": "code",
   "execution_count": 62,
   "metadata": {},
   "outputs": [],
   "source": [
    "def path_to_id(path):\n",
    "    return os.path.split(os.path.split(os.path.split(path)[0])[0])[1].split(' ')[1] + '.mp4'"
   ]
  },
  {
   "cell_type": "code",
   "execution_count": 63,
   "metadata": {},
   "outputs": [],
   "source": [
    "def path_to_framenum(path):\n",
    "    return int(os.path.basename(path).split('.')[0]) - 1"
   ]
  },
  {
   "cell_type": "code",
   "execution_count": 64,
   "metadata": {},
   "outputs": [
    {
     "data": {
      "text/plain": [
       "'0001.mp4'"
      ]
     },
     "execution_count": 64,
     "metadata": {},
     "output_type": "execute_result"
    }
   ],
   "source": [
    "path_to_id(X_train_paths[0])"
   ]
  },
  {
   "cell_type": "code",
   "execution_count": 65,
   "metadata": {},
   "outputs": [
    {
     "data": {
      "text/plain": [
       "0"
      ]
     },
     "execution_count": 65,
     "metadata": {},
     "output_type": "execute_result"
    }
   ],
   "source": [
    "path_to_framenum(X_train_paths[0])"
   ]
  },
  {
   "cell_type": "code",
   "execution_count": 66,
   "metadata": {},
   "outputs": [],
   "source": [
    "train_parsed = [\n",
    "    (path_to_id(path), path_to_framenum(path), label)\n",
    "    for path, label in zip(X_train_paths, noisy_train)\n",
    "]"
   ]
  },
  {
   "cell_type": "code",
   "execution_count": 67,
   "metadata": {},
   "outputs": [],
   "source": [
    "dev_parsed = [\n",
    "    (path_to_id(path), path_to_framenum(path), label)\n",
    "    for path, label in zip(X_dev_paths, noisy_dev)\n",
    "]"
   ]
  },
  {
   "cell_type": "code",
   "execution_count": 68,
   "metadata": {},
   "outputs": [],
   "source": [
    "test_parsed = [\n",
    "    (path_to_id(path), path_to_framenum(path), label)\n",
    "    for path, label in zip(X_test_paths, noisy_test)\n",
    "]"
   ]
  },
  {
   "cell_type": "code",
   "execution_count": 69,
   "metadata": {},
   "outputs": [],
   "source": [
    "train_parsed_dp = [\n",
    "    (path_to_id(path), path_to_framenum(path), label)\n",
    "    for path, label in zip(X_train_paths, dp_train)\n",
    "]\n",
    "dev_parsed_dp = [\n",
    "    (path_to_id(path), path_to_framenum(path), label)\n",
    "    for path, label in zip(X_dev_paths, dp_dev)\n",
    "]\n",
    "test_parsed_dp = [\n",
    "    (path_to_id(path), path_to_framenum(path), label)\n",
    "    for path, label in zip(X_test_paths, dp_test)\n",
    "]"
   ]
  },
  {
   "cell_type": "code",
   "execution_count": 70,
   "metadata": {},
   "outputs": [
    {
     "name": "stdout",
     "output_type": "stream",
     "text": [
      "23925 3350 3345\n"
     ]
    }
   ],
   "source": [
    "print(len(train_parsed_dp), len(dev_parsed_dp), len(test_parsed_dp))"
   ]
  },
  {
   "cell_type": "code",
   "execution_count": 71,
   "metadata": {},
   "outputs": [
    {
     "data": {
      "text/plain": [
       "23925"
      ]
     },
     "execution_count": 71,
     "metadata": {},
     "output_type": "execute_result"
    }
   ],
   "source": [
    "len(train_parsed)"
   ]
  },
  {
   "cell_type": "code",
   "execution_count": 72,
   "metadata": {},
   "outputs": [
    {
     "data": {
      "text/plain": [
       "3350"
      ]
     },
     "execution_count": 72,
     "metadata": {},
     "output_type": "execute_result"
    }
   ],
   "source": [
    "len(dev_parsed)"
   ]
  },
  {
   "cell_type": "code",
   "execution_count": 73,
   "metadata": {},
   "outputs": [
    {
     "data": {
      "text/plain": [
       "3345"
      ]
     },
     "execution_count": 73,
     "metadata": {},
     "output_type": "execute_result"
    }
   ],
   "source": [
    "len(test_parsed)"
   ]
  },
  {
   "cell_type": "code",
   "execution_count": 74,
   "metadata": {},
   "outputs": [],
   "source": [
    "train_ids = set([\n",
    "    tup[0]\n",
    "    for tup in train_parsed\n",
    "])\n"
   ]
  },
  {
   "cell_type": "code",
   "execution_count": 75,
   "metadata": {},
   "outputs": [],
   "source": [
    "dev_ids = set([\n",
    "    tup[0]\n",
    "    for tup in dev_parsed\n",
    "])\n"
   ]
  },
  {
   "cell_type": "code",
   "execution_count": 76,
   "metadata": {},
   "outputs": [],
   "source": [
    "test_ids = set([\n",
    "    tup[0]\n",
    "    for tup in test_parsed\n",
    "])"
   ]
  },
  {
   "cell_type": "code",
   "execution_count": 77,
   "metadata": {},
   "outputs": [],
   "source": [
    "train_labels = IntervalSetMapping({\n",
    "    vid_id: IntervalSet([\n",
    "        Interval(Bounds3D(\n",
    "            tup[1] / id_to_fps[tup[0]],\n",
    "            (tup[1] + 1) / id_to_fps[tup[0]],\n",
    "        ), payload = tup[2])\n",
    "        for tup in train_parsed if tup[0] == vid_id\n",
    "    ])\n",
    "    for vid_id in train_ids\n",
    "})\n"
   ]
  },
  {
   "cell_type": "code",
   "execution_count": 78,
   "metadata": {},
   "outputs": [],
   "source": [
    "dev_labels = IntervalSetMapping({\n",
    "    vid_id: IntervalSet([\n",
    "        Interval(Bounds3D(\n",
    "            tup[1] / id_to_fps[tup[0]],\n",
    "            (tup[1] + 1) / id_to_fps[tup[0]],\n",
    "        ), payload = tup[2])\n",
    "        for tup in dev_parsed if tup[0] == vid_id\n",
    "    ])\n",
    "    for vid_id in dev_ids\n",
    "})"
   ]
  },
  {
   "cell_type": "code",
   "execution_count": 79,
   "metadata": {},
   "outputs": [],
   "source": [
    "test_labels = IntervalSetMapping({\n",
    "    vid_id: IntervalSet([\n",
    "        Interval(Bounds3D(\n",
    "            tup[1] / id_to_fps[tup[0]],\n",
    "            (tup[1] + 1) / id_to_fps[tup[0]],\n",
    "        ), payload = tup[2])\n",
    "        for tup in test_parsed if tup[0] == vid_id\n",
    "    ])\n",
    "    for vid_id in test_ids\n",
    "})"
   ]
  },
  {
   "cell_type": "code",
   "execution_count": 80,
   "metadata": {},
   "outputs": [],
   "source": [
    "train_labels_dp = IntervalSetMapping({\n",
    "    vid_id: IntervalSet([\n",
    "        Interval(Bounds3D(\n",
    "            tup[1] / id_to_fps[tup[0]],\n",
    "            (tup[1] + 1) / id_to_fps[tup[0]],\n",
    "        ), payload = tup[2])\n",
    "        for tup in train_parsed_dp if tup[0] == vid_id\n",
    "    ])\n",
    "    for vid_id in train_ids\n",
    "})\n",
    "dev_labels_dp = IntervalSetMapping({\n",
    "    vid_id: IntervalSet([\n",
    "        Interval(Bounds3D(\n",
    "            tup[1] / id_to_fps[tup[0]],\n",
    "            (tup[1] + 1) / id_to_fps[tup[0]],\n",
    "        ), payload = tup[2])\n",
    "        for tup in dev_parsed_dp if tup[0] == vid_id\n",
    "    ])\n",
    "    for vid_id in dev_ids\n",
    "})\n",
    "test_labels_dp = IntervalSetMapping({\n",
    "    vid_id: IntervalSet([\n",
    "        Interval(Bounds3D(\n",
    "            tup[1] / id_to_fps[tup[0]],\n",
    "            (tup[1] + 1) / id_to_fps[tup[0]],\n",
    "        ), payload = tup[2])\n",
    "        for tup in test_parsed_dp if tup[0] == vid_id\n",
    "    ])\n",
    "    for vid_id in test_ids\n",
    "})"
   ]
  },
  {
   "cell_type": "code",
   "execution_count": 81,
   "metadata": {},
   "outputs": [],
   "source": [
    "all_noisy_labels = train_labels.union(dev_labels).union(test_labels)"
   ]
  },
  {
   "cell_type": "code",
   "execution_count": 82,
   "metadata": {},
   "outputs": [],
   "source": [
    "all_dp_labels = train_labels_dp.union(dev_labels_dp).union(test_labels_dp)"
   ]
  },
  {
   "cell_type": "code",
   "execution_count": 83,
   "metadata": {},
   "outputs": [
    {
     "data": {
      "application/vnd.jupyter.widget-view+json": {
       "model_id": "d46f4e980db349a49953e008044ca543",
       "version_major": 2,
       "version_minor": 0
      },
      "text/plain": [
       "VGridWidget(vgrid_spec={'data': b'x\\x9c\\xc4\\xbd\\xdb\\x8e5\\xdbq\\x9d\\xf9*\\x06\\xaf\\ta\\x9e\\x0f}\\xd9\\xaf\\xd0}\\xd7\\x1…"
      ]
     },
     "metadata": {},
     "output_type": "display_data"
    }
   ],
   "source": [
    "# Visualize Mask-RCNN bboxes, and cyclist bboxes\n",
    "vgrid_spec = VGridSpec(\n",
    "    video_meta = video_metadata,\n",
    "    vis_format = VideoBlockFormat(imaps = [\n",
    "        ('cyclist_bounding_boxes', cyclist_bboxes_ism.filter(\n",
    "            lambda intrvl: intrvl['payload']['class'] == 'Cyclist')),\n",
    "        ('mask_rcnn_bounding_boxes', maskrcnn_bboxes_ism.filter(\n",
    "            lambda intrvl: intrvl['payload']['class'] == 'bicycle')),\n",
    "        ('noisy_labels', all_noisy_labels.filter(\n",
    "            lambda intrvl: intrvl['payload'] >= 0.5)),\n",
    "        ('persons', maskrcnn_bboxes_ism.filter(\n",
    "             lambda intrvl: intrvl['payload']['class'] == 'person'))\n",
    "    ]),\n",
    "    video_endpoint = VIDEO_COLLECTION_BASEURL\n",
    ")\n",
    "VGridWidget(vgrid_spec = vgrid_spec.to_json_compressed())"
   ]
  },
  {
   "cell_type": "code",
   "execution_count": 84,
   "metadata": {},
   "outputs": [
    {
     "data": {
      "application/vnd.jupyter.widget-view+json": {
       "model_id": "8df6bb1ee6a048c5be4eceb28ad64cf4",
       "version_major": 2,
       "version_minor": 0
      },
      "text/plain": [
       "VGridWidget(vgrid_spec={'data': b'x\\x9c\\xcc\\xbd\\xdb\\xae.\\xcbq\\x9d\\xf9*\\x02\\xaf\\t!\\xcf\\x87\\xbe\\xecW\\xe8\\xbe3\\x0…"
      ]
     },
     "metadata": {},
     "output_type": "display_data"
    }
   ],
   "source": [
    "# Visualize Mask-RCNN bboxes, and cyclist bboxes\n",
    "vgrid_spec = VGridSpec(\n",
    "    video_meta = video_metadata,\n",
    "    vis_format = VideoBlockFormat(imaps = [\n",
    "        ('cyclist_bounding_boxes', cyclist_bboxes_ism.filter(\n",
    "            lambda intrvl: intrvl['payload']['class'] == 'Cyclist')),\n",
    "        ('mask_rcnn_bounding_boxes', maskrcnn_bboxes_ism.filter(\n",
    "            lambda intrvl: intrvl['payload']['class'] == 'bicycle')),\n",
    "        ('persons', maskrcnn_bboxes_ism.filter(\n",
    "            lambda intrvl: intrvl['payload']['class'] == 'person')),\n",
    "#         ('noisy_labels', all_noisy_labels.filter(\n",
    "#             lambda intrvl: intrvl['payload'] >= 0.99)),\n",
    "#         ('dp_labels', all_dp_labels.filter(\n",
    "#             lambda intrvl: intrvl['payload'] >= 0.5))\n",
    "    ]),\n",
    "    video_endpoint = VIDEO_COLLECTION_BASEURL\n",
    ")\n",
    "VGridWidget(vgrid_spec = vgrid_spec.to_json_compressed())"
   ]
  },
  {
   "cell_type": "code",
   "execution_count": 36,
   "metadata": {},
   "outputs": [],
   "source": [
    "# Just the dev/test set\n",
    "cyclist_bboxes_ism_dt = IntervalSetMapping({'0002.mp4': cyclist_bboxes_ism.get_grouped_intervals()['0002.mp4']})\n",
    "maskrcnn_bboxes_ism_dt = IntervalSetMapping({'0002.mp4': maskrcnn_bboxes_ism.get_grouped_intervals()['0002.mp4']})\n",
    "noisy_labels_ism_dt = IntervalSetMapping({'0002.mp4': all_noisy_labels.get_grouped_intervals()['0002.mp4']})\n",
    "dp_labels_ism_dt = IntervalSetMapping({'0002.mp4': all_dp_labels.get_grouped_intervals()['0002.mp4']})"
   ]
  },
  {
   "cell_type": "code",
   "execution_count": 37,
   "metadata": {},
   "outputs": [
    {
     "data": {
      "application/vnd.jupyter.widget-view+json": {
       "model_id": "9a36905fe329400fbbcfe7a0bb5fbb00",
       "version_major": 2,
       "version_minor": 0
      },
      "text/plain": [
       "VGridWidget(vgrid_spec={'data': b'x\\x9c\\xd4\\xbd\\xdd\\xae$\\xbb\\x91\\xa5\\xf9*\\r]\\x0b\\x05\\xe7?}.\\xe7\\x15f\\xee\\xe6\\x…"
      ]
     },
     "metadata": {},
     "output_type": "display_data"
    }
   ],
   "source": [
    "# Visualize Mask-RCNN bboxes, and cyclist bboxes\n",
    "vgrid_spec = VGridSpec(\n",
    "    video_meta = video_metadata,\n",
    "    vis_format = VideoBlockFormat(imaps = [\n",
    "        ('cyclist_bounding_boxes', cyclist_bboxes_ism_dt.filter(\n",
    "            lambda intrvl: intrvl['payload']['class'] == 'Cyclist')),\n",
    "        ('mask_rcnn_bounding_boxes', maskrcnn_bboxes_ism_dt.filter(\n",
    "            lambda intrvl: intrvl['payload']['class'] == 'bicycle')),\n",
    "        ('noisy_labels', noisy_labels_ism_dt.filter(\n",
    "            lambda intrvl: intrvl['payload'] >= 0.5)),\n",
    "#         ('persons', maskrcnn_bboxes_ism.filter(\n",
    "#             lambda intrvl: intrvl['payload']['class'] == 'person'))\n",
    "    ]),\n",
    "    video_endpoint = VIDEO_COLLECTION_BASEURL\n",
    ")\n",
    "VGridWidget(vgrid_spec = vgrid_spec.to_json_compressed())"
   ]
  },
  {
   "cell_type": "code",
   "execution_count": 38,
   "metadata": {},
   "outputs": [
    {
     "data": {
      "application/vnd.jupyter.widget-view+json": {
       "model_id": "ab01d29fcc5b4ba3b515e7e2faca144b",
       "version_major": 2,
       "version_minor": 0
      },
      "text/plain": [
       "VGridWidget(vgrid_spec={'data': b'x\\x9c\\xd4\\xbd\\xdd\\xae$\\xbb\\x91\\xa5\\xf9*\\r]\\x0b\\x05\\xe7?}.\\xe7\\x15f\\xee\\xe6\\x…"
      ]
     },
     "metadata": {},
     "output_type": "display_data"
    }
   ],
   "source": [
    "# Visualize Mask-RCNN bboxes, and cyclist bboxes\n",
    "vgrid_spec = VGridSpec(\n",
    "    video_meta = video_metadata,\n",
    "    vis_format = VideoBlockFormat(imaps = [\n",
    "        ('cyclist_bounding_boxes', cyclist_bboxes_ism_dt.filter(\n",
    "            lambda intrvl: intrvl['payload']['class'] == 'Cyclist')),\n",
    "        ('mask_rcnn_bounding_boxes', maskrcnn_bboxes_ism_dt.filter(\n",
    "            lambda intrvl: intrvl['payload']['class'] == 'bicycle')),\n",
    "        ('noisy_labels', noisy_labels_ism_dt.filter(\n",
    "            lambda intrvl: intrvl['payload'] >= 0.9)),\n",
    "#         ('persons', maskrcnn_bboxes_ism.filter(\n",
    "#             lambda intrvl: intrvl['payload']['class'] == 'person'))\n",
    "    ]),\n",
    "    video_endpoint = VIDEO_COLLECTION_BASEURL\n",
    ")\n",
    "VGridWidget(vgrid_spec = vgrid_spec.to_json_compressed())"
   ]
  },
  {
   "cell_type": "code",
   "execution_count": 39,
   "metadata": {},
   "outputs": [
    {
     "data": {
      "application/vnd.jupyter.widget-view+json": {
       "model_id": "4728e8be9971466d90fe005c3b9c8800",
       "version_major": 2,
       "version_minor": 0
      },
      "text/plain": [
       "VGridWidget(vgrid_spec={'data': b'x\\x9c\\xd4\\xbd\\xdd\\xae$\\xbb\\x91\\xa5\\xf9*\\r]\\x0b\\x05\\xe7?}.\\xe7\\x15f\\xee\\xe6\\x…"
      ]
     },
     "metadata": {},
     "output_type": "display_data"
    }
   ],
   "source": [
    "# Visualize Mask-RCNN bboxes, and cyclist bboxes\n",
    "vgrid_spec = VGridSpec(\n",
    "    video_meta = video_metadata,\n",
    "    vis_format = VideoBlockFormat(imaps = [\n",
    "        ('cyclist_bounding_boxes', cyclist_bboxes_ism_dt.filter(\n",
    "            lambda intrvl: intrvl['payload']['class'] == 'Cyclist')),\n",
    "        ('mask_rcnn_bounding_boxes', maskrcnn_bboxes_ism_dt.filter(\n",
    "            lambda intrvl: intrvl['payload']['class'] == 'bicycle')),\n",
    "        ('noisy_labels', noisy_labels_ism_dt.filter(\n",
    "            lambda intrvl: intrvl['payload'] >= 0.3)),\n",
    "#         ('persons', maskrcnn_bboxes_ism.filter(\n",
    "#             lambda intrvl: intrvl['payload']['class'] == 'person'))\n",
    "    ]),\n",
    "    video_endpoint = VIDEO_COLLECTION_BASEURL\n",
    ")\n",
    "VGridWidget(vgrid_spec = vgrid_spec.to_json_compressed())"
   ]
  },
  {
   "cell_type": "code",
   "execution_count": 40,
   "metadata": {},
   "outputs": [
    {
     "data": {
      "application/vnd.jupyter.widget-view+json": {
       "model_id": "cfa5e3f3713548269cd27fe1ea5a418d",
       "version_major": 2,
       "version_minor": 0
      },
      "text/plain": [
       "VGridWidget(vgrid_spec={'data': b'x\\x9c\\xd4\\xbd\\xdd\\xae$\\xbb\\x91\\xa5\\xf9*\\r]\\x0b\\x05\\xe7?}.\\xe7\\x15f\\xee\\xe6\\x…"
      ]
     },
     "metadata": {},
     "output_type": "display_data"
    }
   ],
   "source": [
    "# Visualize Mask-RCNN bboxes, and cyclist bboxes\n",
    "vgrid_spec = VGridSpec(\n",
    "    video_meta = video_metadata,\n",
    "    vis_format = VideoBlockFormat(imaps = [\n",
    "        ('cyclist_bounding_boxes', cyclist_bboxes_ism_dt.filter(\n",
    "            lambda intrvl: intrvl['payload']['class'] == 'Cyclist')),\n",
    "        ('mask_rcnn_bounding_boxes', maskrcnn_bboxes_ism_dt.filter(\n",
    "            lambda intrvl: intrvl['payload']['class'] == 'bicycle')),\n",
    "        ('noisy_labels', noisy_labels_ism_dt.filter(\n",
    "            lambda intrvl: intrvl['payload'] >= 0.99)),\n",
    "#         ('persons', maskrcnn_bboxes_ism.filter(\n",
    "#             lambda intrvl: intrvl['payload']['class'] == 'person'))\n",
    "    ]),\n",
    "    video_endpoint = VIDEO_COLLECTION_BASEURL\n",
    ")\n",
    "VGridWidget(vgrid_spec = vgrid_spec.to_json_compressed())"
   ]
  },
  {
   "cell_type": "code",
   "execution_count": 41,
   "metadata": {},
   "outputs": [
    {
     "data": {
      "application/vnd.jupyter.widget-view+json": {
       "model_id": "9389f338f65c44a6a9bf7ac609b62d87",
       "version_major": 2,
       "version_minor": 0
      },
      "text/plain": [
       "VGridWidget(vgrid_spec={'data': b'x\\x9c\\xd4\\xbd\\xdd\\xae$\\xbb\\x91\\xa5\\xf9*\\r]\\x0b\\x05\\xe7?}.\\xe7\\x15f\\xee\\xe6\\x…"
      ]
     },
     "metadata": {},
     "output_type": "display_data"
    }
   ],
   "source": [
    "# DATA PROGRAMMING\n",
    "vgrid_spec = VGridSpec(\n",
    "    video_meta = video_metadata,\n",
    "    vis_format = VideoBlockFormat(imaps = [\n",
    "        ('cyclist_bounding_boxes', cyclist_bboxes_ism_dt.filter(\n",
    "            lambda intrvl: intrvl['payload']['class'] == 'Cyclist')),\n",
    "        ('mask_rcnn_bounding_boxes', dp_labels_ism_dt.filter(\n",
    "            lambda intrvl: intrvl['payload'] >= 0.99999)),\n",
    "        ('noisy_labels', noisy_labels_ism_dt.filter(\n",
    "            lambda intrvl: intrvl['payload'] >= 0.99)),\n",
    "        ('persons', maskrcnn_bboxes_ism.filter(\n",
    "            lambda intrvl: intrvl['payload']['class'] == 'person'))\n",
    "    ]),\n",
    "    video_endpoint = VIDEO_COLLECTION_BASEURL\n",
    ")\n",
    "VGridWidget(vgrid_spec = vgrid_spec.to_json_compressed())"
   ]
  },
  {
   "cell_type": "code",
   "execution_count": 42,
   "metadata": {},
   "outputs": [
    {
     "data": {
      "text/plain": [
       "<function rekall.predicates.equal.<locals>.<lambda>(intrvl1, intrvl2)>"
      ]
     },
     "execution_count": 42,
     "metadata": {},
     "output_type": "execute_result"
    }
   ],
   "source": [
    "from rekall.predicates import *\n",
    "equal()"
   ]
  },
  {
   "cell_type": "code",
   "execution_count": null,
   "metadata": {},
   "outputs": [],
   "source": [
    "def tp(gt, test):\n",
    "    return gt.join(\n",
    "        test,\n",
    "        predicate = Bounds3D.T(equal()), merge_op = lambda intrvl1, intrvl2: intrvl2, window=0.0\n",
    "    ).group_by_axis(('t1', 't2'), Bounds3D(0, 1, 0, 1, 0, 1))"
   ]
  },
  {
   "cell_type": "code",
   "execution_count": 44,
   "metadata": {},
   "outputs": [],
   "source": [
    "def print_precision_recall_f1(gt, test):\n",
    "    true_positives = tp(gt, test).size()['0002.mp4']\n",
    "    precision = true_positives / gt.group_by_axis(('t1', 't2'), Bounds3D(0, 1, 0, 1, 0, 1)).size()['0002.mp4']\n",
    "    recall = true_positives / test.size()['0002.mp4']\n",
    "    \n",
    "    print('Precision: {}'.format(precision))\n",
    "    print('Recall: {}'.format(recall))\n",
    "    print('F1: {}'.format(2 * precision * recall / (precision + recall)))"
   ]
  },
  {
   "cell_type": "code",
   "execution_count": 45,
   "metadata": {},
   "outputs": [
    {
     "name": "stdout",
     "output_type": "stream",
     "text": [
      "Precision: 0.6618705035971223\n",
      "Recall: 0.9638095238095238\n",
      "F1: 0.7848003101977511\n"
     ]
    }
   ],
   "source": [
    "print_precision_recall_f1(\n",
    "    cyclist_bboxes_ism_dt.filter(\n",
    "            lambda intrvl: intrvl['payload']['class'] == 'Cyclist'),\n",
    "    noisy_labels_ism_dt.filter(\n",
    "            lambda intrvl: intrvl['payload'] >= 0.99)\n",
    ")"
   ]
  },
  {
   "cell_type": "code",
   "execution_count": 46,
   "metadata": {},
   "outputs": [
    {
     "name": "stdout",
     "output_type": "stream",
     "text": [
      "Precision: 0.5853499018966645\n",
      "Recall: 0.9955506117908788\n",
      "F1: 0.7372322899505765\n"
     ]
    }
   ],
   "source": [
    "print_precision_recall_f1(\n",
    "    cyclist_bboxes_ism_dt.filter(\n",
    "            lambda intrvl: intrvl['payload']['class'] == 'Cyclist'),\n",
    "    maskrcnn_bboxes_ism_dt.filter(\n",
    "            lambda intrvl: intrvl['payload']['class'] == 'bicycle'\n",
    "    ).group_by_axis(('t1', 't2'), Bounds3D(0, 1, 0, 1, 0, 1))\n",
    ")"
   ]
  },
  {
   "cell_type": "code",
   "execution_count": 47,
   "metadata": {},
   "outputs": [],
   "source": [
    "coalesced_filtered_bikes = maskrcnn_bboxes_ism_dt.filter(\n",
    "    lambda intrvl: intrvl['payload']['class'] == 'bicycle'\n",
    ").group_by_axis(\n",
    "    ('t1', 't2'), Bounds3D(0, 1, 0, 1, 0, 1)\n",
    ").dilate(10).coalesce(\n",
    "    ('t1', 't2'), lambda b1, b2: b1.span(b2)\n",
    ").dilate(-10)"
   ]
  },
  {
   "cell_type": "code",
   "execution_count": 48,
   "metadata": {},
   "outputs": [
    {
     "data": {
      "text/plain": [
       "{'0002.mp4': 9}"
      ]
     },
     "execution_count": 48,
     "metadata": {},
     "output_type": "execute_result"
    }
   ],
   "source": [
    "coalesced_filtered_bikes.filter_size(min_size=0.0).size()"
   ]
  },
  {
   "cell_type": "code",
   "execution_count": 49,
   "metadata": {},
   "outputs": [
    {
     "data": {
      "text/plain": [
       "{'0002.mp4': 9}"
      ]
     },
     "execution_count": 49,
     "metadata": {},
     "output_type": "execute_result"
    }
   ],
   "source": [
    "coalesced_filtered_bikes.size()"
   ]
  },
  {
   "cell_type": "code",
   "execution_count": 50,
   "metadata": {},
   "outputs": [
    {
     "name": "stdout",
     "output_type": "stream",
     "text": [
      "Precision: 0.8227599738391105\n",
      "Recall: 0.9063400576368876\n",
      "F1: 0.8625299965718203\n"
     ]
    }
   ],
   "source": [
    "print_precision_recall_f1(\n",
    "    cyclist_bboxes_ism_dt.filter(\n",
    "            lambda intrvl: intrvl['payload']['class'] == 'Cyclist'),\n",
    "    coalesced_filtered_bikes.filter_size(min_size=1.1).split(lambda intrvl: IntervalSet([\n",
    "        Interval(Bounds3D(i / 10, (i + 1) / 10))\n",
    "        for i in range(int(intrvl['t1'] * 10), int(intrvl['t2'] * 10))\n",
    "    ]))\n",
    ")"
   ]
  },
  {
   "cell_type": "code",
   "execution_count": 51,
   "metadata": {},
   "outputs": [
    {
     "data": {
      "application/vnd.jupyter.widget-view+json": {
       "model_id": "f19f5ae8e69d40989820a8fe6749298e",
       "version_major": 2,
       "version_minor": 0
      },
      "text/plain": [
       "VGridWidget(vgrid_spec={'data': b'x\\x9c\\xd4\\xbd\\xdd\\xae$\\xbb\\x91\\xa5\\xf9*\\r]\\x0b\\x05\\xe7?}.\\xe7\\x15f\\xee\\xe6\\x…"
      ]
     },
     "metadata": {},
     "output_type": "display_data"
    }
   ],
   "source": [
    "# Visualize Mask-RCNN bboxes, and cyclist bboxes\n",
    "vgrid_spec = VGridSpec(\n",
    "    video_meta = video_metadata,\n",
    "    vis_format = VideoBlockFormat(imaps = [\n",
    "        ('cyclist_bounding_boxes', cyclist_bboxes_ism_dt.filter(\n",
    "            lambda intrvl: intrvl['payload']['class'] == 'Cyclist')),\n",
    "        ('mask_rcnn_bounding_boxes', coalesced_filtered_bikes),#.filter_size(min_size=2.0)),\n",
    "        ('noisy_labels', noisy_labels_ism_dt.filter(\n",
    "            lambda intrvl: intrvl['payload'] >= 0.99)),\n",
    "#         ('persons', maskrcnn_bboxes_ism.filter(\n",
    "#             lambda intrvl: intrvl['payload']['class'] == 'person'))\n",
    "    ]),\n",
    "    video_endpoint = VIDEO_COLLECTION_BASEURL\n",
    ")\n",
    "VGridWidget(vgrid_spec = vgrid_spec.to_json_compressed())"
   ]
  },
  {
   "cell_type": "code",
   "execution_count": 52,
   "metadata": {},
   "outputs": [
    {
     "data": {
      "application/vnd.jupyter.widget-view+json": {
       "model_id": "f0e229e44bdb4dcb9757d8404048d287",
       "version_major": 2,
       "version_minor": 0
      },
      "text/plain": [
       "VGridWidget(vgrid_spec={'data': b'x\\x9c\\xd4\\xbd\\xdd\\xae$\\xbb\\x91\\xa5\\xf9*\\r]\\x0b\\x05\\xe7?}.\\xe7\\x15f\\xee\\xe6\\x…"
      ]
     },
     "metadata": {},
     "output_type": "display_data"
    }
   ],
   "source": [
    "# Visualize Mask-RCNN bboxes, and cyclist bboxes\n",
    "vgrid_spec = VGridSpec(\n",
    "    video_meta = video_metadata,\n",
    "    vis_format = VideoBlockFormat(imaps = [\n",
    "        ('cyclist_bounding_boxes', cyclist_bboxes_ism_dt.filter(\n",
    "            lambda intrvl: intrvl['payload']['class'] == 'Cyclist')),\n",
    "        ('mask_rcnn_bounding_boxes', coalesced_filtered_bikes.filter_size(min_size=1.1)),\n",
    "        ('noisy_labels', noisy_labels_ism_dt.filter(\n",
    "            lambda intrvl: intrvl['payload'] >= 0.99)),\n",
    "#         ('persons', maskrcnn_bboxes_ism.filter(\n",
    "#             lambda intrvl: intrvl['payload']['class'] == 'person'))\n",
    "    ]),\n",
    "    video_endpoint = VIDEO_COLLECTION_BASEURL\n",
    ")\n",
    "VGridWidget(vgrid_spec = vgrid_spec.to_json_compressed())"
   ]
  },
  {
   "cell_type": "code",
   "execution_count": 53,
   "metadata": {},
   "outputs": [],
   "source": [
    "true_positives = tp(\n",
    "    cyclist_bboxes_ism_dt.filter(\n",
    "            lambda intrvl: intrvl['payload']['class'] == 'Cyclist'),\n",
    "    noisy_labels_ism_dt.filter(\n",
    "            lambda intrvl: intrvl['payload'] >= 0.99)\n",
    ").size()['0002.mp4']"
   ]
  },
  {
   "cell_type": "code",
   "execution_count": 54,
   "metadata": {},
   "outputs": [
    {
     "data": {
      "text/plain": [
       "{'0002.mp4': 3652}"
      ]
     },
     "execution_count": 54,
     "metadata": {},
     "output_type": "execute_result"
    }
   ],
   "source": [
    "cyclist_bboxes_ism_dt.filter(\n",
    "            lambda intrvl: intrvl['payload']['class'] == 'Cyclist').size()"
   ]
  },
  {
   "cell_type": "code",
   "execution_count": 55,
   "metadata": {},
   "outputs": [],
   "source": [
    "tp_intrvls = tp(\n",
    "    cyclist_bboxes_ism_dt.filter(\n",
    "            lambda intrvl: intrvl['payload']['class'] == 'Cyclist'),\n",
    "    noisy_labels_ism_dt.filter(\n",
    "            lambda intrvl: intrvl['payload'] >= 0.99)\n",
    ")"
   ]
  },
  {
   "cell_type": "code",
   "execution_count": 57,
   "metadata": {},
   "outputs": [
    {
     "data": {
      "text/plain": [
       "1012"
      ]
     },
     "execution_count": 57,
     "metadata": {},
     "output_type": "execute_result"
    }
   ],
   "source": [
    "tp_intrvls.size()['0002.mp4']"
   ]
  },
  {
   "cell_type": "code",
   "execution_count": 58,
   "metadata": {},
   "outputs": [],
   "source": [
    "true_positives = tp_intrvls.size()['0002.mp4']"
   ]
  },
  {
   "cell_type": "code",
   "execution_count": 59,
   "metadata": {},
   "outputs": [
    {
     "data": {
      "text/plain": [
       "0.6618705035971223"
      ]
     },
     "execution_count": 59,
     "metadata": {},
     "output_type": "execute_result"
    }
   ],
   "source": [
    "true_positives / cyclist_bboxes_ism_dt.filter(\n",
    "    lambda intrvl: intrvl['payload']['class'] == 'Cyclist'\n",
    ").group_by_axis(('t1', 't2'), Bounds3D(0, 1, 0, 1, 0, 1)).size()['0002.mp4']"
   ]
  },
  {
   "cell_type": "code",
   "execution_count": 119,
   "metadata": {},
   "outputs": [
    {
     "data": {
      "text/plain": [
       "0.984"
      ]
     },
     "execution_count": 119,
     "metadata": {},
     "output_type": "execute_result"
    }
   ],
   "source": [
    "true_positives / noisy_labels_ism_dt.filter(\n",
    "            lambda intrvl: intrvl['payload'] >= 0.99).size()['0002.mp4']"
   ]
  },
  {
   "cell_type": "code",
   "execution_count": 118,
   "metadata": {},
   "outputs": [
    {
     "data": {
      "text/plain": [
       "1000"
      ]
     },
     "execution_count": 118,
     "metadata": {},
     "output_type": "execute_result"
    }
   ],
   "source": [
    "noisy_labels_ism_dt.filter(\n",
    "            lambda intrvl: intrvl['payload'] >= 0.99).size()['0002.mp4']"
   ]
  },
  {
   "cell_type": "code",
   "execution_count": 95,
   "metadata": {},
   "outputs": [
    {
     "data": {
      "text/plain": [
       "2.715"
      ]
     },
     "execution_count": 95,
     "metadata": {},
     "output_type": "execute_result"
    }
   ],
   "source": [
    "true_positives / noisy_labels_ism_dt.filter(\n",
    "            lambda intrvl: intrvl['payload'] >= 0.99).size()['0002.mp4']"
   ]
  },
  {
   "cell_type": "markdown",
   "metadata": {},
   "source": [
    "# If the above videos are not displaying, download the videos locally"
   ]
  },
  {
   "cell_type": "code",
   "execution_count": 36,
   "metadata": {},
   "outputs": [
    {
     "name": "stdout",
     "output_type": "stream",
     "text": [
      "Downloading http://olimar.stanford.edu/hdd/intel_self_driving/0001.mp4\n",
      "Downloading http://olimar.stanford.edu/hdd/intel_self_driving/0002.mp4\n",
      "Downloading http://olimar.stanford.edu/hdd/intel_self_driving/0003.mp4\n",
      "Downloading http://olimar.stanford.edu/hdd/intel_self_driving/0004.mp4\n",
      "Downloading http://olimar.stanford.edu/hdd/intel_self_driving/0005.mp4\n"
     ]
    }
   ],
   "source": [
    "for video in video_metadata:\n",
    "    print(\"Downloading {}\".format(os.path.join(VIDEO_COLLECTION_BASEURL, video.path)))\n",
    "    req = requests.get(os.path.join(VIDEO_COLLECTION_BASEURL, video.path), verify=False)\n",
    "    with open(video.path, 'wb') as f:\n",
    "        f.write(req.content)"
   ]
  },
  {
   "cell_type": "markdown",
   "metadata": {},
   "source": [
    "Or alternatively, navigate to a folder of your choosing and run the following command:\n",
    "```\n",
    "wget --no-check-certificate  https://olimar.stanford.edu/hdd/intel_self_driving/0001.mp4 \\\n",
    "    https://olimar.stanford.edu/hdd/intel_self_driving/0002.mp4 \\\n",
    "    https://olimar.stanford.edu/hdd/intel_self_driving/0003.mp4 \\\n",
    "    https://olimar.stanford.edu/hdd/intel_self_driving/0004.mp4 \\\n",
    "    https://olimar.stanford.edu/hdd/intel_self_driving/0005.mp4\n",
    "```"
   ]
  },
  {
   "cell_type": "markdown",
   "metadata": {},
   "source": [
    "# You'll need to start up a local fileserver to serve the videos.\n",
    "\n",
    "Navigate to your esperlight folder (or to the folder where you downloaded the videos, and run:\n",
    "\n",
    "`python3 -m http.server [PORTNUMBER]`\n",
    "\n",
    "Where `[PORTNUMBER]` is a port of your choosing. Be sure to specify it correctly in the `video_endpoint` argument below."
   ]
  },
  {
   "cell_type": "code",
   "execution_count": 42,
   "metadata": {},
   "outputs": [
    {
     "data": {
      "application/vnd.jupyter.widget-view+json": {
       "model_id": "e6d6932fd5824ac59af0cf5d24736d0b",
       "version_major": 2,
       "version_minor": 0
      },
      "text/plain": [
       "VGridWidget(vgrid_spec={'compressed': True, 'data': b'x\\x9c\\xc4\\xbd\\xcb\\xb2lKr]\\xf7+\\xb4jK\\xb4x?\\xd8\\xd4/H=5h\\…"
      ]
     },
     "metadata": {},
     "output_type": "display_data"
    }
   ],
   "source": [
    "# Visualize Mask-RCNN bboxes, and cyclist bboxes\n",
    "vgrid_spec = VGridSpec(\n",
    "    video_meta = video_metadata,\n",
    "    vis_format = VideoBlockFormat(imaps = [\n",
    "        ('mask_rcnn_bounding_boxes', maskrcnn_bboxes_ism),\n",
    "        ('cyclist_bounding_boxes', cyclist_bboxes_ism)\n",
    "    ]),\n",
    "    video_endpoint = 'http://localhost:8080'\n",
    ")\n",
    "VGridWidget(vgrid_spec = vgrid_spec.to_json_compressed())"
   ]
  },
  {
   "cell_type": "code",
   "execution_count": 43,
   "metadata": {},
   "outputs": [
    {
     "data": {
      "application/vnd.jupyter.widget-view+json": {
       "model_id": "4cf1be1c781246308aaeda8202dd5567",
       "version_major": 2,
       "version_minor": 0
      },
      "text/plain": [
       "VGridWidget(vgrid_spec={'compressed': True, 'data': b'x\\x9c\\xd4\\xbd\\xdb\\xce4\\xcbu\\x1c\\xf8*\\x06\\xaf\\r!\\xcf\\x87\\…"
      ]
     },
     "metadata": {},
     "output_type": "display_data"
    }
   ],
   "source": [
    "# Visualize Mask-RCNN bboxes, and cyclist bboxes\n",
    "vgrid_spec = VGridSpec(\n",
    "    video_meta = video_metadata,\n",
    "    vis_format = VideoBlockFormat(imaps = [\n",
    "        ('cyclist_bounding_boxes', cyclist_bboxes_ism),\n",
    "        ('mask_rcnn_bounding_boxes', maskrcnn_bboxes_ism.filter(\n",
    "            lambda intrvl: intrvl['payload']['class'] == 'person'))\n",
    "    ]),\n",
    "    video_endpoint = 'http://localhost:8080'\n",
    ")\n",
    "VGridWidget(vgrid_spec = vgrid_spec.to_json_compressed())"
   ]
  },
  {
   "cell_type": "code",
   "execution_count": 54,
   "metadata": {},
   "outputs": [
    {
     "data": {
      "application/vnd.jupyter.widget-view+json": {
       "model_id": "d10017f14e4245188e29a951046cbe53",
       "version_major": 2,
       "version_minor": 0
      },
      "text/plain": [
       "VGridWidget(vgrid_spec={'compressed': True, 'data': b'x\\x9c\\xc4\\xbd\\xd9\\x8ewIv\\xdd\\xf7*B_\\x0bD\\xcc\\x83/\\xf5\\n\\…"
      ]
     },
     "metadata": {},
     "output_type": "display_data"
    }
   ],
   "source": [
    "# Visualize Mask-RCNN bboxes, and cyclist bboxes\n",
    "vgrid_spec = VGridSpec(\n",
    "    video_meta = video_metadata,\n",
    "    vis_format = VideoBlockFormat(imaps = [\n",
    "        ('cyclist_bounding_boxes', cyclist_bboxes_ism.filter(\n",
    "            lambda intrvl: intrvl['payload']['class'] == 'Cyclist')),\n",
    "        ('mask_rcnn_bounding_boxes', maskrcnn_bboxes_ism.filter(\n",
    "            lambda intrvl: intrvl['payload']['class'] == 'bicycle')),\n",
    "        ('persons', maskrcnn_bboxes_ism.filter(\n",
    "            lambda intrvl: intrvl['payload']['class'] == 'person'))\n",
    "    ]),\n",
    "    video_endpoint = 'http://localhost:8080'\n",
    ")\n",
    "VGridWidget(vgrid_spec = vgrid_spec.to_json_compressed())"
   ]
  },
  {
   "cell_type": "code",
   "execution_count": 48,
   "metadata": {},
   "outputs": [
    {
     "data": {
      "application/vnd.jupyter.widget-view+json": {
       "model_id": "2d894feb201443199a5ac5fd195bf884",
       "version_major": 2,
       "version_minor": 0
      },
      "text/plain": [
       "VGridWidget(vgrid_spec={'compressed': True, 'data': b'x\\x9c\\xdc\\xbd\\xdd\\xae$9r\\xa5\\xfb*\\x83\\xbe\\x16\\x04\\xe7?9\\…"
      ]
     },
     "metadata": {},
     "output_type": "display_data"
    }
   ],
   "source": [
    "# Visualize Mask-RCNN bboxes, and cyclist bboxes\n",
    "vgrid_spec = VGridSpec(\n",
    "    video_meta = video_metadata,\n",
    "    vis_format = VideoBlockFormat(imaps = [\n",
    "        ('cyclist_bounding_boxes', cyclist_bboxes_ism),\n",
    "        ('mask_rcnn_bounding_boxes', maskrcnn_bboxes_ism.filter(\n",
    "            lambda intrvl: intrvl['payload']['class'] == 'woman'))\n",
    "    ]),\n",
    "    video_endpoint = 'http://localhost:8080'\n",
    ")\n",
    "VGridWidget(vgrid_spec = vgrid_spec.to_json_compressed())"
   ]
  }
 ],
 "metadata": {
  "kernelspec": {
   "display_name": "Python 3",
   "language": "python",
   "name": "python3"
  },
  "language_info": {
   "codemirror_mode": {
    "name": "ipython",
    "version": 3
   },
   "file_extension": ".py",
   "mimetype": "text/x-python",
   "name": "python",
   "nbconvert_exporter": "python",
   "pygments_lexer": "ipython3",
   "version": "3.5.5"
  }
 },
 "nbformat": 4,
 "nbformat_minor": 2
}
